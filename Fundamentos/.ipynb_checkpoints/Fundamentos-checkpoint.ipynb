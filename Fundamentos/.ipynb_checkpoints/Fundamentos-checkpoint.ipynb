{
 "cells": [
  {
   "cell_type": "markdown",
   "metadata": {},
   "source": [
    "## Class Twenty Two\n",
    "\n",
    "## * Primeiro Programa"
   ]
  },
  {
   "cell_type": "markdown",
   "metadata": {},
   "source": [
    "Não precisa de ponto e virgula no final da linha de programa no python\n",
    "\n",
    "Pode pular linha inserir ' \\ '\n",
    "\n",
    "Python se importa com a quebra (pular linha)"
   ]
  },
  {
   "cell_type": "code",
   "execution_count": 8,
   "metadata": {},
   "outputs": [
    {
     "name": "stdout",
     "output_type": "stream",
     "text": [
      "Primeiro Programa\n",
      "Help on built-in function print in module builtins:\n",
      "\n",
      "print(...)\n",
      "    print(value, ..., sep=' ', end='\\n', file=sys.stdout, flush=False)\n",
      "    \n",
      "    Prints the values to a stream, or to sys.stdout by default.\n",
      "    Optional keyword arguments:\n",
      "    file:  a file-like object (stream); defaults to the current sys.stdout.\n",
      "    sep:   string inserted between values, default a space.\n",
      "    end:   string appended after the last value, default a newline.\n",
      "    flush: whether to forcibly flush the stream.\n",
      "\n"
     ]
    }
   ],
   "source": [
    "print('Primeiro Programa')\n",
    "1 \\\n",
    "+ 2\n",
    "\n",
    "#Para ajuda informar help e a função\n",
    "help(print)"
   ]
  },
  {
   "cell_type": "markdown",
   "metadata": {},
   "source": [
    "### Aparece o resultado apenas da ultima sentença"
   ]
  },
  {
   "cell_type": "code",
   "execution_count": 5,
   "metadata": {},
   "outputs": [
    {
     "data": {
      "text/plain": [
       "11"
      ]
     },
     "execution_count": 5,
     "metadata": {},
     "output_type": "execute_result"
    }
   ],
   "source": [
    "1 + 2 + 3\n",
    "4 + 2 + 5"
   ]
  },
  {
   "cell_type": "markdown",
   "metadata": {},
   "source": [
    "### Aparece todas as sentenças devido ao print"
   ]
  },
  {
   "cell_type": "code",
   "execution_count": 7,
   "metadata": {},
   "outputs": [
    {
     "name": "stdout",
     "output_type": "stream",
     "text": [
      "6\n",
      "11\n"
     ]
    }
   ],
   "source": [
    "print (1 + 2 + 3)\n",
    "print (4 + 2 + 5)"
   ]
  },
  {
   "cell_type": "markdown",
   "metadata": {},
   "source": [
    "## Class Twenty Three\n",
    "\n",
    "## * Tipos Básicos"
   ]
  },
  {
   "cell_type": "code",
   "execution_count": 18,
   "metadata": {},
   "outputs": [
    {
     "name": "stdout",
     "output_type": "stream",
     "text": [
      "True\n",
      "False\n",
      "3.2\n",
      "Aqui eu falo minha lingua!(Qualquer texto)\n",
      "Posso usar aspas duplas.\n",
      "Você é muito muito muito legal!\n",
      "[1, 2, 3]\n",
      "{'nome': 'Pedro', 'idade': 22}\n",
      "None\n"
     ]
    }
   ],
   "source": [
    "#Tipo boolean (verdadeiro e falso)\n",
    "print(True)\n",
    "print(False)\n",
    "\n",
    "#Tipo float(ponto flutoante \"1.2\") e int(inteiro \"2\")\n",
    "print(1.2 + 2)\n",
    "\n",
    "#Tipo string (palavras)\n",
    "print('Aqui eu falo minha lingua!(Qualquer texto)')\n",
    "print (\"Posso usar aspas duplas.\")\n",
    "\n",
    "#Concatenção - Utilizo o sinal de mais +.\n",
    "print('Você é '+ 3 * 'muito ' + 'legal!')\n",
    "#Erro Ambiguidade (tipo real somanto uma string) \n",
    "#print(3 + '3')\n",
    "\n",
    "#Lista\n",
    "print([1, 2, 3])\n",
    "\n",
    "#Dicionario - Estrutura chave / valor\n",
    "print({'nome': 'Pedro', 'idade' : 22})\n",
    "\n",
    "#tipo nulo\n",
    "print(None)"
   ]
  },
  {
   "cell_type": "markdown",
   "metadata": {},
   "source": [
    "# Class Twenty Four\n",
    "\n",
    "## * Variáveis"
   ]
  },
  {
   "cell_type": "markdown",
   "metadata": {},
   "source": [
    "*Anotação:*\n",
    "\n",
    "* uma variavel é um espaço na memoria que você salva um dado no computador;\n",
    "* \"=\" que atribui um valor a uma variável;\n",
    "* Python é uma linguagem dinamicamente tipada (não preciso declarar o tipo de variavel que ela é);\n",
    "* nome da variavel em paython é = **Identificado**\n"
   ]
  },
  {
   "cell_type": "code",
   "execution_count": 10,
   "metadata": {},
   "outputs": [
    {
     "name": "stdout",
     "output_type": "stream",
     "text": [
      "15.2\n",
      "Agora eu sou uma string!\n",
      "5.2\n"
     ]
    }
   ],
   "source": [
    "a = 10\n",
    "b = 5.2\n",
    "\n",
    "print (a + b)\n",
    "\n",
    "a = \"Agora eu sou uma string!\"\n",
    "\n",
    "print (a)\n",
    "print (b)\n",
    "\n",
    "# print (a + b) --- não permite somar uma string e flooat\n",
    "\n",
    "\n"
   ]
  },
  {
   "cell_type": "markdown",
   "metadata": {},
   "source": [
    "## Class Twenty Five\n",
    "## * Comentários"
   ]
  },
  {
   "cell_type": "markdown",
   "metadata": {},
   "source": [
    "*Anotações*\n",
    "\n",
    "* Boas pratica de comentarios:\n",
    "     * Algumas empresas obriga que exista comentarios.\n",
    "     * Para aprender abuse dos comentarios.\n",
    "     * Na pratica e na vida real utilize comentarios onde realmente for necessario\n",
    "     * Prefira dar nomes das variaveis coerentes\n",
    "    \n",
    "    \n",
    "* Para comentar linha utilizar hashtag \"#\"\n",
    "* Para comentar em bloco utilizar 3 aspas '''\n",
    "\n"
   ]
  },
  {
   "cell_type": "code",
   "execution_count": 11,
   "metadata": {},
   "outputs": [
    {
     "name": "stdout",
     "output_type": "stream",
     "text": [
      "Possuo ainda  1215.8000000000002 .\n",
      "Fim do programa\n"
     ]
    }
   ],
   "source": [
    "# Minhas variáveis\n",
    "salario = 3450.40\n",
    "despesas = 2234.60\n",
    "\n",
    "'''\n",
    "A ideia é calcular \n",
    "quanto vai sobrar\n",
    "salario\n",
    "'''\n",
    "sobra = salario - despesas\n",
    "print ('Possuo ainda ' , sobra , '.')\n",
    "\n",
    "# print('Fim!')\n",
    "print ('Fim do programa') # Pode comentar aqui também."
   ]
  },
  {
   "cell_type": "markdown",
   "metadata": {},
   "source": [
    "## Class Twenty Six\n",
    "\n",
    "## Operadores Aritméticos"
   ]
  },
  {
   "cell_type": "code",
   "execution_count": 14,
   "metadata": {},
   "outputs": [
    {
     "name": "stdout",
     "output_type": "stream",
     "text": [
      "5\n",
      "-4\n",
      "10.6\n",
      "3.1333333333333333\n",
      "0.40000000000000036\n",
      "3.0\n",
      "256\n",
      "24\n"
     ]
    }
   ],
   "source": [
    "#Soma\n",
    "print (2 + 3)\n",
    "\n",
    "#Subtração\n",
    "print(1 - 5)\n",
    "\n",
    "#Mutiplicação\n",
    "print (2 * 5.3)\n",
    "\n",
    "#Divisão\n",
    "print(9.4 / 3)\n",
    "\n",
    "#Modulo (Resto da Divisão)\n",
    "print(9.4 % 3)\n",
    "\n",
    "#Divisão resultado Inteiro\n",
    "print (9.4 // 3)\n",
    "\n",
    "#Exponensiação\n",
    "print (2 ** 8)\n",
    "\n",
    "a = 12\n",
    "b = a\n",
    "print (a + b)\n"
   ]
  },
  {
   "cell_type": "markdown",
   "metadata": {},
   "source": [
    "## Class Twenty Seven\n",
    "\n",
    "## Desafio Operadores Aritmeticos"
   ]
  },
  {
   "cell_type": "code",
   "execution_count": 2,
   "metadata": {},
   "outputs": [
    {
     "name": "stdout",
     "output_type": "stream",
     "text": [
      "Percentual comprometido do salário: 71.18 %\n",
      "Sobra Salario: R$ 994.25\n",
      "Percentual comprometido do salário: 71.18% Valor Disponivel: R$ 994.25\n"
     ]
    }
   ],
   "source": [
    "# Qual é o percentual que o salario esta compremetido com as despesas.\n",
    "\n",
    "salario = 3450.45\n",
    "despesas = 2456.2\n",
    "\n",
    "perc_sobra = (despesas / salario) * 100\n",
    "\n",
    "print ('Percentual comprometido do salário: {:.2f}'.format(perc_sobra), '%')\n",
    "\n",
    "sobra_salario = ((100 - perc_sobra)/100) * salario\n",
    "\n",
    "print(f'Sobra Salario: R$ {sobra_salario:.2f}')\n",
    "\n",
    "print (f'Percentual comprometido do salário: {perc_sobra:.2f}% Valor Disponivel: R$ {sobra_salario:.2f}')"
   ]
  },
  {
   "cell_type": "markdown",
   "metadata": {},
   "source": [
    "## Class Twenty Nine"
   ]
  },
  {
   "cell_type": "markdown",
   "metadata": {},
   "source": [
    "## Operadores Relacionais"
   ]
  },
  {
   "cell_type": "code",
   "execution_count": 10,
   "metadata": {},
   "outputs": [
    {
     "data": {
      "text/plain": [
       "False"
      ]
     },
     "execution_count": 10,
     "metadata": {},
     "output_type": "execute_result"
    }
   ],
   "source": [
    "3 > 4\n",
    "4 >= 3\n",
    "1 < 2\n",
    "3 <= 1\n",
    "3 != 2\n",
    "3 == 3\n",
    "2 =='2'"
   ]
  },
  {
   "cell_type": "markdown",
   "metadata": {},
   "source": [
    "## Class thirty\n",
    "\n",
    "## Operadores de Atribuição"
   ]
  },
  {
   "cell_type": "code",
   "execution_count": 37,
   "metadata": {},
   "outputs": [
    {
     "name": "stdout",
     "output_type": "stream",
     "text": [
      "3\n",
      "<class 'int'>\n",
      "10\n",
      "15\n",
      "13\n",
      "26\n",
      "13.0\n",
      "2.0\n",
      "<class 'float'>\n",
      "4.0\n",
      "<class 'float'>\n",
      "1.0\n",
      "<class 'float'>\n"
     ]
    }
   ],
   "source": [
    "a = 3\n",
    "print(a)\n",
    "print(type(a))\n",
    "a = a + 7\n",
    "print(a)\n",
    "\n",
    "# Acrecentar valor a uma variavel +=\n",
    "a += 5\n",
    "print(a)\n",
    "\n",
    "# Subtrair valor a uma variavel -=\n",
    "a -= 2\n",
    "print(a)\n",
    "\n",
    "# Mutiplicar valor a uma variavel *=\n",
    "a *= 2\n",
    "print(a)\n",
    "\n",
    "# Divisão do valor a uma variavel /=\n",
    "a /= 2\n",
    "print(a)\n",
    "\n",
    "# Modulo do valor a uma variavel %= (Utiliza o resto da divisão)\n",
    "a %= 11\n",
    "print(a)\n",
    "print(type(a))\n",
    "\n",
    "# Exponensiação do valor a uma variavel **=\n",
    "a **= 2\n",
    "print(a)\n",
    "print(type(a))\n",
    "\n",
    "# Divisão com resultado inteiro - resultado é o num. Inteiro do valor a uma variavel //=\n",
    "a //= 3\n",
    "print(a)\n",
    "print(type(a))\n"
   ]
  },
  {
   "cell_type": "markdown",
   "metadata": {},
   "source": [
    "## Class Thirty One\n",
    "\n",
    "## Operadores Lógicos"
   ]
  },
  {
   "cell_type": "code",
   "execution_count": 40,
   "metadata": {},
   "outputs": [
    {
     "name": "stdout",
     "output_type": "stream",
     "text": [
      "True\n",
      "True\n"
     ]
    }
   ],
   "source": [
    "True or False\n",
    "\n",
    "7 != 3 and 2 > 3\n",
    "\n",
    "# Tabela verdade do operador AND\n",
    "True and True # Verdadeiro\n",
    "True and False # Falso\n",
    "False and True # Falso\n",
    "False and True # Falso\n",
    "\n",
    "# Tabela verdade do OR\n",
    "True or True # Verdadeiro\n",
    "True or False # Verdadeiro\n",
    "False or True # Verdadeiro\n",
    "False or False # False\n",
    "\n",
    "# Tabela verdade do XOR (Ou exclusivo)\n",
    "True != True\n",
    "True != False\n",
    "False != True\n",
    "False != False\n",
    "\n",
    "# Operador de Negação (Unário)\n",
    "not True\n",
    "not False\n",
    "\n",
    "not 0\n",
    "not 1\n",
    "not not -1\n",
    "not not True\n",
    "\n",
    "# Cuidado! Operadores Bit a Bit\n",
    "True & True\n",
    "True | False\n",
    "True ^ False\n",
    "\n",
    "# AND Bit-a-Bit\n",
    "# 3 = 11\n",
    "# 2 = 10\n",
    "# _ = 10\n",
    "3 & 2\n",
    "\n",
    "# OR Bit-a-Bit\n",
    "# 3 = 11\n",
    "# 2 = 10\n",
    "# _ = 11\n",
    "3 | 2\n",
    "\n",
    "# XOR Bit-a-Bit\n",
    "# 3 = 11\n",
    "# 2 = 10\n",
    "# _ = 01\n",
    "3 ^ 2\n",
    "\n",
    "# Um pouco de Realidade\n",
    "saldo = 1000\n",
    "salario = 4000\n",
    "despesa = 1967\n",
    "\n",
    "# Primeira forma de escrever o codigo\n",
    "saldo_positivo = saldo > 0\n",
    "despesas_controladas = salario - despesa >= 0.2 * salario\n",
    "meta_1 = saldo_positivo and despesas_controladas\n",
    "print(meta_1)\n",
    "\n",
    "# Segunda forma de escrever o codigo\n",
    "meta_2 = saldo > 0 and salario - despesa >= 0.2 * salario\n",
    "print(meta_2)"
   ]
  },
  {
   "cell_type": "markdown",
   "metadata": {},
   "source": [
    "## Class Thirty Two\n",
    "## Desafio Operadores Logicos"
   ]
  },
  {
   "cell_type": "code",
   "execution_count": 4,
   "metadata": {},
   "outputs": [
    {
     "name": "stdout",
     "output_type": "stream",
     "text": [
      "TV50=False TV32=True Sorvete=True Saudável=False\n"
     ]
    },
    {
     "data": {
      "text/plain": [
       "'Teste, 1, =True'"
      ]
     },
     "execution_count": 4,
     "metadata": {},
     "output_type": "execute_result"
    }
   ],
   "source": [
    "\"\"\"\n",
    "- Confirmando os 2 Trabalhos: TV 50' + Sorvete\n",
    "- Confirmando apenas 1 Trabalho: TV 32' + Sorvete\n",
    "- Nenhum Trabalho confirmado: Fica em casa\n",
    "- Ficando em Casa: Mais Saudável\n",
    "\"\"\"\n",
    "\n",
    "# Os Trabalhos\n",
    "trabalho_terca = True\n",
    "trabalho_quinta = False\n",
    "\n",
    "\n",
    "tv_50 = trabalho_terca and trabalho_quinta\n",
    "tv_32 = trabalho_terca != trabalho_quinta #XOR\n",
    "sorvete = trabalho_terca or trabalho_quinta\n",
    "mais_saudavel = not sorvete\n",
    "\n",
    "print (\"TV50={} TV32={} Sorvete={} Saudável={}\".format(tv_50,tv_32,sorvete,mais_saudavel))\n",
    "\n",
    "# Como funciona o .Format\n",
    "\"{}, {}, ={}\".format(1, True, 'Teste')\n",
    "# Podemos escolher a ordem\n",
    "\"{2}, {0}, ={1}\".format(1, True, 'Teste')\n"
   ]
  },
  {
   "cell_type": "markdown",
   "metadata": {},
   "source": [
    "## Class Thirty Three\n"
   ]
  },
  {
   "cell_type": "markdown",
   "metadata": {},
   "source": [
    "## Operadores Unários "
   ]
  },
  {
   "cell_type": "code",
   "execution_count": 24,
   "metadata": {},
   "outputs": [
    {
     "name": "stdout",
     "output_type": "stream",
     "text": [
      "Teste Teste\n",
      "4\n",
      "4\n",
      "-4\n"
     ]
    },
    {
     "data": {
      "text/plain": [
       "True"
      ]
     },
     "execution_count": 24,
     "metadata": {},
     "output_type": "execute_result"
    }
   ],
   "source": [
    "print('Teste {}'.format('Teste'))\n",
    "\n",
    "a = 3\n",
    "# a++ não existe a sintaxe ++\n",
    "a += 1\n",
    "print(a)\n",
    "-a\n",
    "print(a)\n",
    "a = -a\n",
    "print(a)\n",
    "\n",
    "# Numero zero é falso qualquer outro numero é verdadeiro\n",
    "not 0\n",
    "not 1\n",
    "not -2\n",
    "not False\n",
    "not not True"
   ]
  },
  {
   "cell_type": "markdown",
   "metadata": {},
   "source": [
    "## Class Thirty Four\n",
    "\n",
    "## Operadores Ternários\n",
    "\n",
    "Operadores com 3 operandos."
   ]
  },
  {
   "cell_type": "code",
   "execution_count": 42,
   "metadata": {},
   "outputs": [
    {
     "name": "stdout",
     "output_type": "stream",
     "text": [
      "Hoje estou com as roupas molhadas.\n",
      "Hoje estou com as roupas molhadas.\n",
      "Hoje não corri e estou seco.\n",
      "Hoje não corri e estou seco.\n"
     ]
    }
   ],
   "source": [
    "esta_chovendo = True\n",
    "print('Hoje estou com as roupas ' + ('secas.', 'molhadas.') [esta_chovendo])\n",
    "print('Hoje estou com as roupas ' + ('molhadas.' if esta_chovendo else 'secas.'))\n",
    "\n",
    "corri = False\n",
    "print ('Hoje' + (' não','')[corri] + ' corri e estou' + (' seco.', ' molhado.')[corri])\n",
    "print ('Hoje' + (' ' if corri else ' não ') + 'corri e estou' + (' molhado.' if corri else (' seco.')))\n",
    "\n"
   ]
  },
  {
   "cell_type": "markdown",
   "metadata": {},
   "source": [
    "## Class Thirty Five\n",
    "## Mais Operadores (Membro/Identidade)"
   ]
  },
  {
   "cell_type": "code",
   "execution_count": 52,
   "metadata": {},
   "outputs": [
    {
     "data": {
      "text/plain": [
       "True"
      ]
     },
     "execution_count": 52,
     "metadata": {},
     "output_type": "execute_result"
    }
   ],
   "source": [
    "# Operador de Membro\n",
    "lista = [1, 2, 3, 'Ana', 'Carla']\n",
    "2 in lista\n",
    "'Ana' not in lista\n",
    "\n",
    "# Operado de Identidade\n",
    "x = 3\n",
    "y = x\n",
    "z = 3\n",
    "# Verifica se eles possuem o mesmo valor\n",
    "x is z\n",
    "y is z\n",
    "x is not z\n",
    "\n",
    "lista_a = [1, 2, 3]\n",
    "lista_b = lista_a\n",
    "lista_c = [1, 2, 3]\n",
    "# Na lista funciona doferente do caso acima pois a lista a e a Lista c\n",
    "# mesmo tendo os mesmos dados são guardados na memoria em locais diferentes\n",
    "# e trata-se de listas diferentes com conteudos iguais\n",
    "# por isso na comparação is o resultado é False\n",
    "lista_a is lista_b\n",
    "lista_b is lista_c\n",
    "lista_a is not lista_c"
   ]
  },
  {
   "cell_type": "markdown",
   "metadata": {},
   "source": [
    "## Class Thirty Six\n",
    "### Builtins"
   ]
  },
  {
   "cell_type": "code",
   "execution_count": 33,
   "metadata": {},
   "outputs": [
    {
     "name": "stdout",
     "output_type": "stream",
     "text": [
      "3.3333333333333335\n",
      "Variavel NOME consta com o valor: Alex Silva de Sousa\n",
      "Tipo da Variavel NOME é: <class 'str'>\n",
      "A quantidade de caracteris armazenada na Variavel NOME é: 19\n"
     ]
    }
   ],
   "source": [
    "#Modulo Builtins\n",
    "#Da onde vem a função print o tipo True, False\n",
    "#e Falaremos de escopo global.\n",
    "\n",
    "type(1) # Função Type vem do Builtins e print\n",
    "__builtins__.type('Fala Galera')\n",
    "__builtins__.print(10/3)\n",
    "\n",
    "# dir() sem nenhuma variavel, vai mostrar o Escopo Global do Phyton\n",
    "dir()\n",
    "\n",
    "# função dir (com variavel __builtins__) vai monstrar\n",
    "# todas as funções disponiveis dentro do modulo padrão builtins que vem no phyton\n",
    "dir(__builtins__)\n",
    "\n",
    "nome = 'Alex Silva de Sousa'\n",
    "print('Variavel NOME consta com o valor: ' + nome)\n",
    "variavel = type(nome)\n",
    "print('Tipo da Variavel NOME é:' , variavel)\n",
    "print('A quantidade de caracteris armazenada na Variavel NOME é:', __builtins__.len(nome))\n"
   ]
  },
  {
   "cell_type": "markdown",
   "metadata": {},
   "source": [
    "## Class Thirty Seven\n",
    "## Conversão de Tipos"
   ]
  },
  {
   "cell_type": "code",
   "execution_count": 11,
   "metadata": {},
   "outputs": [
    {
     "name": "stdout",
     "output_type": "stream",
     "text": [
      "Variavel a = <class 'int'>\n",
      "Variavel b =  <class 'str'>\n",
      "5\n",
      "32\n",
      "5.2\n"
     ]
    }
   ],
   "source": [
    "# Inteiros:\n",
    "2 + 3\n",
    "\n",
    "# Concatenação de duas strings\n",
    "'2' + '3'\n",
    "\n",
    "# Python da erro quando tentamos executar ação com tipos de variaveis diferentes\n",
    "# 2 + '3'\n",
    "# print (2 + '3')\n",
    "\n",
    "a = 2\n",
    "b = '3'\n",
    "\n",
    "print('Variavel a =', type(a))\n",
    "print('Variavel b = ', type(b))\n",
    "\n",
    "# Convertendo a varialvel b de str para int\n",
    "print(a + int(b))\n",
    "\n",
    "# Convertendo a varialvel a de int para str\n",
    "print (b + str(a))\n",
    "\n",
    "# Convertendo varialvel str '3.2' para um float\n",
    "print (2 + float('3.2'))"
   ]
  },
  {
   "cell_type": "markdown",
   "metadata": {},
   "source": [
    "## Class Thirty Eight\n",
    "\n",
    "## Correção Automática"
   ]
  },
  {
   "cell_type": "code",
   "execution_count": 24,
   "metadata": {},
   "outputs": [
    {
     "data": {
      "text/plain": [
       "float"
      ]
     },
     "execution_count": 24,
     "metadata": {},
     "output_type": "execute_result"
    }
   ],
   "source": [
    "# Quando o python realiza a conversão automatica\n",
    "# Quando não existe ambiguidade\n",
    "\n",
    "10 / 2\n",
    "type(10 / 2)\n",
    "10 // 3\n",
    "type(10 // 3)\n",
    "10 // 3.3\n",
    "type(10 // 3.3)\n",
    "10 / 2.5\n",
    "type(10 / 2.5)\n",
    "2 + True\n",
    "2 + False\n",
    "type(2 + True)\n",
    "type(1 + 2)\n",
    "type(1 + 2.5)"
   ]
  },
  {
   "cell_type": "markdown",
   "metadata": {},
   "source": [
    "## Class Thirty Nine\n",
    "\n",
    "## Correção Automática"
   ]
  },
  {
   "cell_type": "code",
   "execution_count": 11,
   "metadata": {},
   "outputs": [
    {
     "data": {
      "text/plain": [
       "float"
      ]
     },
     "execution_count": 11,
     "metadata": {},
     "output_type": "execute_result"
    }
   ],
   "source": [
    "10 / 2 # Python transforma o resultado em float\n",
    "\n",
    "type (10 / 2)\n",
    "\n",
    "10 // 3 # Python transforma o resultado em int\n",
    "\n",
    "type(10 // 3)\n",
    "\n",
    "10 // 3.3\n",
    "\n",
    "type (10 // 3.3)\n",
    "\n",
    "2 + True\n",
    "\n",
    "2 + False\n",
    "\n",
    "type(1 + 2)\n",
    "\n",
    "type(1 + 2.5)"
   ]
  },
  {
   "cell_type": "markdown",
   "metadata": {},
   "source": [
    "## Class Fourty\n",
    "\n",
    "## Números #1\n",
    "\n",
    "### Tipos Numericos"
   ]
  },
  {
   "cell_type": "code",
   "execution_count": 84,
   "metadata": {},
   "outputs": [
    {
     "name": "stdout",
     "output_type": "stream",
     "text": [
      "========Int - Inteiros=========\n",
      "\n",
      "['__abs__', '__add__', '__and__', '__bool__', '__ceil__', '__class__', '__delattr__', '__dir__', '__divmod__', '__doc__', '__eq__', '__float__', '__floor__', '__floordiv__', '__format__', '__ge__', '__getattribute__', '__getnewargs__', '__gt__', '__hash__', '__index__', '__init__', '__init_subclass__', '__int__', '__invert__', '__le__', '__lshift__', '__lt__', '__mod__', '__mul__', '__ne__', '__neg__', '__new__', '__or__', '__pos__', '__pow__', '__radd__', '__rand__', '__rdivmod__', '__reduce__', '__reduce_ex__', '__repr__', '__rfloordiv__', '__rlshift__', '__rmod__', '__rmul__', '__ror__', '__round__', '__rpow__', '__rrshift__', '__rshift__', '__rsub__', '__rtruediv__', '__rxor__', '__setattr__', '__sizeof__', '__str__', '__sub__', '__subclasshook__', '__truediv__', '__trunc__', '__xor__', 'as_integer_ratio', 'bit_length', 'conjugate', 'denominator', 'from_bytes', 'imag', 'numerator', 'real', 'to_bytes'] \n",
      "\n",
      "a = 5 - Tipo: <class 'int'>\n",
      "Função Número absoluto __abs__(-2) = 2\n",
      "Função Número absoluto __abs__(-2) = 2\n",
      "Função __add__ (2, 3) = 5\n",
      "\n",
      "\n",
      "========Float - NÚmeros com Pontos=========\n",
      "\n",
      "['__abs__', '__add__', '__bool__', '__class__', '__delattr__', '__dir__', '__divmod__', '__doc__', '__eq__', '__float__', '__floordiv__', '__format__', '__ge__', '__getattribute__', '__getformat__', '__getnewargs__', '__gt__', '__hash__', '__init__', '__init_subclass__', '__int__', '__le__', '__lt__', '__mod__', '__mul__', '__ne__', '__neg__', '__new__', '__pos__', '__pow__', '__radd__', '__rdivmod__', '__reduce__', '__reduce_ex__', '__repr__', '__rfloordiv__', '__rmod__', '__rmul__', '__round__', '__rpow__', '__rsub__', '__rtruediv__', '__set_format__', '__setattr__', '__sizeof__', '__str__', '__sub__', '__subclasshook__', '__truediv__', '__trunc__', 'as_integer_ratio', 'conjugate', 'fromhex', 'hex', 'imag', 'is_integer', 'real'] \n",
      "\n",
      "b = 2.5 - Tipo: <class 'float'>\n",
      "a + b = 7.5 - Tipo: <class 'float'>\n",
      "a / b = 2.0 - Tipo: <class 'float'>\n",
      "a * b = 12.5 - Tipo: <class 'float'>\n",
      "Função b.is_integer() - Variavel b é inteiro? Resposta: False\n",
      "Função 3.5.is_integer() - O número 3.5 é inteiro? Resposta: False\n",
      "Função 5.0.is_integer() - O número 5.0 é inteiro? Resposta: True\n",
      "Função Número absoluto __abs__(-3.5) = 3.5\n"
     ]
    }
   ],
   "source": [
    "# Int - Numero Inteiro\n",
    "print('========Int - Inteiros=========\\n')\n",
    "print(dir(int),'\\n')\n",
    "a = 5\n",
    "print('a =', a ,'- Tipo:' ,type(a))\n",
    "# Chamar Função do Python para os Numeros Int\n",
    "# Número absoluto\n",
    "print('Função Número absoluto __abs__(-2) =', (-2).__abs__())\n",
    "print('Função Número absoluto __abs__(-2) =', abs(-2))\n",
    "# Função Add\n",
    "print ('Função __add__ (2, 3) =', int.__add__(2, 3))\n",
    "\n",
    "# Float - Numeros Real com pontos\n",
    "print('\\n\\n========Float - NÚmeros com Pontos=========\\n')\n",
    "print(dir(float),'\\n')\n",
    "b = 2.5\n",
    "print('b =', b, '- Tipo:',type(b))\n",
    "print('a + b =', a + b,'- Tipo:', type(a + b))\n",
    "print('a / b =', a / b, '- Tipo:', type(a / b))\n",
    "print('a * b =', a * b, '- Tipo:', type(a * b))\n",
    "\n",
    "# Chamar Função do Python para os Numeros Float\n",
    "# Is_Intege - Saber se o número é inteiro\n",
    "print('Função b.is_integer() - Variavel b é inteiro? Resposta:',b.is_integer())\n",
    "print('Função 3.5.is_integer() - O número 3.5 é inteiro? Resposta:',3.5.is_integer())\n",
    "print('Função 5.0.is_integer() - O número 5.0 é inteiro? Resposta:',5.0.is_integer())\n",
    "# Número absoluto\n",
    "print('Função Número absoluto __abs__(-3.5) =', (-3.5).__abs__())\n"
   ]
  },
  {
   "cell_type": "markdown",
   "metadata": {},
   "source": [
    "## Class Fourty One\n",
    "\n",
    "## Números 2\n",
    "\n",
    "### Tipos Numericos - Decimais"
   ]
  },
  {
   "cell_type": "code",
   "execution_count": 32,
   "metadata": {},
   "outputs": [
    {
     "name": "stdout",
     "output_type": "stream",
     "text": [
      "1.1 + 2.2 = 3.3000000000000003\n",
      "\n",
      " Funções dentro da função Decimal:\n",
      " ['__abs__', '__add__', '__bool__', '__ceil__', '__class__', '__complex__', '__copy__', '__deepcopy__', '__delattr__', '__dir__', '__divmod__', '__doc__', '__eq__', '__float__', '__floor__', '__floordiv__', '__format__', '__ge__', '__getattribute__', '__gt__', '__hash__', '__init__', '__init_subclass__', '__int__', '__le__', '__lt__', '__mod__', '__module__', '__mul__', '__ne__', '__neg__', '__new__', '__pos__', '__pow__', '__radd__', '__rdivmod__', '__reduce__', '__reduce_ex__', '__repr__', '__rfloordiv__', '__rmod__', '__rmul__', '__round__', '__rpow__', '__rsub__', '__rtruediv__', '__setattr__', '__sizeof__', '__str__', '__sub__', '__subclasshook__', '__truediv__', '__trunc__', 'adjusted', 'as_integer_ratio', 'as_tuple', 'canonical', 'compare', 'compare_signal', 'compare_total', 'compare_total_mag', 'conjugate', 'copy_abs', 'copy_negate', 'copy_sign', 'exp', 'fma', 'from_float', 'imag', 'is_canonical', 'is_finite', 'is_infinite', 'is_nan', 'is_normal', 'is_qnan', 'is_signed', 'is_snan', 'is_subnormal', 'is_zero', 'ln', 'log10', 'logb', 'logical_and', 'logical_invert', 'logical_or', 'logical_xor', 'max', 'max_mag', 'min', 'min_mag', 'next_minus', 'next_plus', 'next_toward', 'normalize', 'number_class', 'quantize', 'radix', 'real', 'remainder_near', 'rotate', 'same_quantum', 'scaleb', 'shift', 'sqrt', 'to_eng_string', 'to_integral', 'to_integral_exact', 'to_integral_value']\n",
      "\n",
      "1.1 + 2.2 Sem função Decimal = 3.3000000000000003\n",
      "1.1 + 2.2 Com função Decimal = 3.300000000000000266453525910\n",
      "\n",
      "1 / 7 sem função Decimal = 0.14285714285714285\n",
      "1 / 7 com função Decimal = 0.1428571428571428571428571429\n",
      "1 / 7 com função Decimal/4 digitos = 0.1429\n",
      "\n",
      "Funções dentro do Modulo decimal:\n",
      " ['BasicContext', 'Clamped', 'Context', 'ConversionSyntax', 'Decimal', 'DecimalException', 'DecimalTuple', 'DefaultContext', 'DivisionByZero', 'DivisionImpossible', 'DivisionUndefined', 'ExtendedContext', 'FloatOperation', 'HAVE_CONTEXTVAR', 'HAVE_THREADS', 'Inexact', 'InvalidContext', 'InvalidOperation', 'MAX_EMAX', 'MAX_PREC', 'MIN_EMIN', 'MIN_ETINY', 'Overflow', 'ROUND_05UP', 'ROUND_CEILING', 'ROUND_DOWN', 'ROUND_FLOOR', 'ROUND_HALF_DOWN', 'ROUND_HALF_EVEN', 'ROUND_HALF_UP', 'ROUND_UP', 'Rounded', 'Subnormal', 'Underflow', '__builtins__', '__cached__', '__doc__', '__file__', '__libmpdec_version__', '__loader__', '__name__', '__package__', '__spec__', '__version__', 'getcontext', 'localcontext', 'setcontext']\n"
     ]
    }
   ],
   "source": [
    "print('1.1 + 2.2 =', 1.1 + 2.2)\n",
    "\n",
    "# Utilizar o decima para resultados exatos, porem usa muito mais memoria.\n",
    "from decimal import Decimal, getcontext\n",
    "print('\\n Funções dentro da função Decimal:\\n', dir(Decimal))\n",
    "\n",
    "print('\\n1.1 + 2.2 Sem função Decimal =', 1.1 + 2.2)\n",
    "print('1.1 + 2.2 Com função Decimal =', Decimal(1.1) + Decimal(2.2))\n",
    "\n",
    "print('\\n1 / 7 sem função Decimal =', 1 / 7)\n",
    "print('1 / 7 com função Decimal =', Decimal (1) / Decimal (7))\n",
    "getcontext().prec = 4\n",
    "print('1 / 7 com função Decimal/4 digitos =', Decimal (1) / Decimal (7))\n",
    "\n",
    "# Importar o modulo decimal\n",
    "import decimal\n",
    "print('\\nFunções dentro do Modulo decimal:\\n', dir(decimal))"
   ]
  },
  {
   "cell_type": "markdown",
   "metadata": {},
   "source": [
    "## Class Fourty Two\n",
    "\n",
    "## Strings 1"
   ]
  },
  {
   "cell_type": "code",
   "execution_count": 62,
   "metadata": {},
   "outputs": [
    {
     "name": "stdout",
     "output_type": "stream",
     "text": [
      "\n",
      "Funções Modulo disponivel no Python, sem precisar Importar __builtins__ =\n",
      "\n",
      " ['ArithmeticError', 'AssertionError', 'AttributeError', 'BaseException', 'BlockingIOError', 'BrokenPipeError', 'BufferError', 'BytesWarning', 'ChildProcessError', 'ConnectionAbortedError', 'ConnectionError', 'ConnectionRefusedError', 'ConnectionResetError', 'DeprecationWarning', 'EOFError', 'Ellipsis', 'EnvironmentError', 'Exception', 'False', 'FileExistsError', 'FileNotFoundError', 'FloatingPointError', 'FutureWarning', 'GeneratorExit', 'IOError', 'ImportError', 'ImportWarning', 'IndentationError', 'IndexError', 'InterruptedError', 'IsADirectoryError', 'KeyError', 'KeyboardInterrupt', 'LookupError', 'MemoryError', 'ModuleNotFoundError', 'NameError', 'None', 'NotADirectoryError', 'NotImplemented', 'NotImplementedError', 'OSError', 'OverflowError', 'PendingDeprecationWarning', 'PermissionError', 'ProcessLookupError', 'RecursionError', 'ReferenceError', 'ResourceWarning', 'RuntimeError', 'RuntimeWarning', 'StopAsyncIteration', 'StopIteration', 'SyntaxError', 'SyntaxWarning', 'SystemError', 'SystemExit', 'TabError', 'TimeoutError', 'True', 'TypeError', 'UnboundLocalError', 'UnicodeDecodeError', 'UnicodeEncodeError', 'UnicodeError', 'UnicodeTranslateError', 'UnicodeWarning', 'UserWarning', 'ValueError', 'Warning', 'WindowsError', 'ZeroDivisionError', '__IPYTHON__', '__build_class__', '__debug__', '__doc__', '__import__', '__loader__', '__name__', '__package__', '__spec__', 'abs', 'all', 'any', 'ascii', 'bin', 'bool', 'breakpoint', 'bytearray', 'bytes', 'callable', 'chr', 'classmethod', 'compile', 'complex', 'copyright', 'credits', 'delattr', 'dict', 'dir', 'display', 'divmod', 'enumerate', 'eval', 'exec', 'filter', 'float', 'format', 'frozenset', 'get_ipython', 'getattr', 'globals', 'hasattr', 'hash', 'help', 'hex', 'id', 'input', 'int', 'isinstance', 'issubclass', 'iter', 'len', 'license', 'list', 'locals', 'map', 'max', 'memoryview', 'min', 'next', 'object', 'oct', 'open', 'ord', 'pow', 'print', 'property', 'range', 'repr', 'reversed', 'round', 'set', 'setattr', 'slice', 'sorted', 'staticmethod', 'str', 'sum', 'super', 'tuple', 'type', 'vars', 'zip']\n",
      "\n",
      "Funções presente na Função Str(String) =\n",
      "\n",
      " ['__add__', '__class__', '__contains__', '__delattr__', '__dir__', '__doc__', '__eq__', '__format__', '__ge__', '__getattribute__', '__getitem__', '__getnewargs__', '__gt__', '__hash__', '__init__', '__init_subclass__', '__iter__', '__le__', '__len__', '__lt__', '__mod__', '__mul__', '__ne__', '__new__', '__reduce__', '__reduce_ex__', '__repr__', '__rmod__', '__rmul__', '__setattr__', '__sizeof__', '__str__', '__subclasshook__', 'capitalize', 'casefold', 'center', 'count', 'encode', 'endswith', 'expandtabs', 'find', 'format', 'format_map', 'index', 'isalnum', 'isalpha', 'isascii', 'isdecimal', 'isdigit', 'isidentifier', 'islower', 'isnumeric', 'isprintable', 'isspace', 'istitle', 'isupper', 'join', 'ljust', 'lower', 'lstrip', 'maketrans', 'partition', 'replace', 'rfind', 'rindex', 'rjust', 'rpartition', 'rsplit', 'rstrip', 'split', 'splitlines', 'startswith', 'strip', 'swapcase', 'title', 'translate', 'upper', 'zfill'] \n",
      "\n",
      "\n",
      "Varialve 'nome'= Alex Sousa \n",
      "\n",
      "\n",
      "Posição 0 da variavel nome = A \n",
      "\n",
      "\n",
      "Criada Varivael 'nome' de tipo Str com valor = Alex Sousa \n",
      "\n",
      "\n",
      "Teste para digitação de texto com \"Aspas\" duplas.\n",
      "Teste para digitação de texto com 'Aspas' simples.\n",
      "Comparar se \"Marca D'Agua\" == 'Marca D'Agua' são iguais pois estão escritos diferentes= True \n",
      "\n",
      "\n",
      " Texto de múltiplas\n",
      "... linhas - Aspas Triplas\n",
      "\n",
      "\n",
      " Texto de múltiplas\n",
      "        ... linhas - Aspas Triplas e Tab\n",
      "\n",
      "\n",
      "Textos com multiplas\n",
      "... linhas - \"\\ n\" Barra Invertida+N\n",
      "\n",
      "\n",
      "Textos com multiplas\n",
      "\t... linhas - \"\\ n\" Barra Invertida+N e Tab \"\\ t\" Barra Invertida+T\n",
      "\n",
      "\n",
      " Texto de múltiplas\n",
      "... linhas - Aspas Simples\n",
      "\n",
      "\n",
      " Texto de múltiplas\n",
      "        ... linhas - Aspas Simples e Tab\n",
      "\n",
      "\n"
     ]
    }
   ],
   "source": [
    "print('\\nFunções Modulo disponivel no Python, sem precisar Importar __builtins__ =\\n\\n',dir(__builtins__))\n",
    "\n",
    "print('\\nFunções presente na Função Str(String) =\\n\\n',dir(str),'\\n\\n')\n",
    "\n",
    "nome = 'Alex Sousa'\n",
    "print('Varialve \\'nome\\'=', nome,'\\n\\n')\n",
    "\n",
    "# É possivel acessar uma determinada posição de dentro de um variavel 'str'\n",
    "# Utilizar colchetes e o numero da variavel, que começa na posição 0\n",
    "print('Posição 0 da variavel nome =', nome[0],'\\n\\n')\n",
    "\n",
    "# str não é possivel atribuir valor de uma determinada string\n",
    "# é possivel alterar o conteudo de uma variavel\n",
    "# Uma string é imutavel\n",
    "# nome[0] = 'P'\n",
    "\n",
    "# Se precisar digitar texto de uma string(str) que contenha aspas colocar \\ barra ao contrario para que seja considerado.\n",
    "print('Criada Varivael \\'nome\\' de tipo Str com valor = ' + nome,'\\n\\n')\n",
    "print ('Teste para digitação de texto com \"Aspas\" duplas.')\n",
    "print (\"Teste para digitação de texto com 'Aspas' simples.\")\n",
    "print ('Comparar se \\\"Marca D\\'Agua\\\" == \\'Marca D\\'Agua\\' são iguais pois estão escritos diferentes=', \"Marca D'Agua\" == 'Marca D\\'Agua','\\n\\n')\n",
    "\n",
    "# Para pular linha utilizar aspas dulplas tripla \"\"\"\n",
    "# Com aspas triplas irá considerar a formatação, ex.: tab\n",
    "doc = \"\"\" Texto de múltiplas\n",
    "... linhas - Aspas Triplas\n",
    "\n",
    "\"\"\" \n",
    "doc1 = \"\"\" Texto de múltiplas\n",
    "        ... linhas - Aspas Triplas e Tab\n",
    "\n",
    "\"\"\" \n",
    "print(doc)\n",
    "print(doc1)\n",
    "\n",
    "# Para pular linha utilizar \\n\n",
    "# Para tab na formatação utilizar \\t\n",
    "ene = 'Textos com multiplas\\n... linhas - \"\\ n\" Barra Invertida+N\\n\\n'\n",
    "ene1 = 'Textos com multiplas\\n\\t... linhas - \"\\ n\" Barra Invertida+N e Tab \"\\ t\" Barra Invertida+T\\n\\n'\n",
    "print(ene)\n",
    "print(ene1)\n",
    "\n",
    "# Para pular linha utilizar aspas simples tripla '''\n",
    "# Com aspas triplas irá considerar a formatação, ex.: tab\n",
    "docx = ''' Texto de múltiplas\n",
    "... linhas - Aspas Simples\n",
    "\n",
    "'''\n",
    "docx1 = ''' Texto de múltiplas\n",
    "        ... linhas - Aspas Simples e Tab\n",
    "\n",
    "'''\n",
    "print(docx)\n",
    "print(docx1)\n"
   ]
  },
  {
   "cell_type": "markdown",
   "metadata": {},
   "source": [
    "## Class Fourty Three\n",
    "\n",
    "## String 2"
   ]
  },
  {
   "cell_type": "code",
   "execution_count": 41,
   "metadata": {},
   "outputs": [
    {
     "name": "stdout",
     "output_type": "stream",
     "text": [
      "Alex Silva de Sousa\n",
      "A\n",
      "i\n",
      "e\n",
      " Silva de Sousa\n",
      "Sousa\n",
      "Alex\n",
      " Sil\n",
      "Alex Silva de Sousa\n",
      "asuoS ed avliS xelA\n",
      "\n",
      "1234567890\n",
      "1234567890\n",
      "13579\n",
      "24680\n",
      "0987654321\n",
      "08642\n",
      "\n",
      " ['__add__', '__class__', '__contains__', '__delattr__', '__dir__', '__doc__', '__eq__', '__format__', '__ge__', '__getattribute__', '__getitem__', '__getnewargs__', '__gt__', '__hash__', '__init__', '__init_subclass__', '__iter__', '__le__', '__len__', '__lt__', '__mod__', '__mul__', '__ne__', '__new__', '__reduce__', '__reduce_ex__', '__repr__', '__rmod__', '__rmul__', '__setattr__', '__sizeof__', '__str__', '__subclasshook__', 'capitalize', 'casefold', 'center', 'count', 'encode', 'endswith', 'expandtabs', 'find', 'format', 'format_map', 'index', 'isalnum', 'isalpha', 'isascii', 'isdecimal', 'isdigit', 'isidentifier', 'islower', 'isnumeric', 'isprintable', 'isspace', 'istitle', 'isupper', 'join', 'ljust', 'lower', 'lstrip', 'maketrans', 'partition', 'replace', 'rfind', 'rindex', 'rjust', 'rpartition', 'rsplit', 'rstrip', 'split', 'splitlines', 'startswith', 'strip', 'swapcase', 'title', 'translate', 'upper', 'zfill'] \n",
      "\n",
      "Alex Silva de Sousa\n",
      "TESTE MAIUSCULA\n",
      "Teste minuscula\n",
      "Escrito maiusculo\n",
      "Maisc para teste\n"
     ]
    }
   ],
   "source": [
    "# Acessar dados de um string\n",
    "nome = 'Alex Silva de Sousa'\n",
    "print(nome)\n",
    "print(nome[0])\n",
    "print(nome[6])\n",
    "print(nome[-7])\n",
    "print(nome[4:])\n",
    "print(nome[-5:])\n",
    "print(nome[:4])\n",
    "print(nome[4:8])\n",
    "print(nome[::])\n",
    "print(nome[::-1])\n",
    "\n",
    "numeros ='1234567890'\n",
    "print('\\n' + numeros)\n",
    "print(numeros[::])\n",
    "print(numeros[::2])\n",
    "print(numeros[1::2])\n",
    "print(numeros[::-1])\n",
    "print(numeros[::-2])\n",
    "\n",
    "print('\\n', dir(str),'\\n')\n",
    "\n",
    "# Contagem de quantidades de caracters na string\n",
    "len(nome)\n",
    "print(nome[0:len(nome)])\n",
    "\n",
    "# Letra Maiuscula\n",
    "maisc = \"teste maiuscula\"\n",
    "print(maisc.upper())\n",
    "\n",
    "\n",
    "# Texto com primeira palavra com letra maiuscula, demais palavras minuscula\n",
    "capit = \"teste minuscula\"\n",
    "print(capit.capitalize())\n",
    "capit2 = 'ESCRITO MAIUSCULO'\n",
    "print(capit2.capitalize())\n",
    "print('MAISC PARA TESTE'.capitalize())\n",
    "\n"
   ]
  },
  {
   "cell_type": "markdown",
   "metadata": {},
   "source": [
    "## Class Fourty Four\n",
    "\n",
    "## String 3"
   ]
  },
  {
   "cell_type": "code",
   "execution_count": 21,
   "metadata": {},
   "outputs": [
    {
     "name": "stdout",
     "output_type": "stream",
     "text": [
      "Python é uma linguagem excelente!\n",
      "\n",
      "\"py\" esta presente na frase? Resposta: False - Python distingue letras maiúsculas e minúsculas\n",
      "\"thon\" esta presente na frase? Resposta: True - Python distingue letras maiúsculas e minúsculas\n",
      "\n",
      "LEN para contagem do numero de caracteres. Frase possuí 34 caracteres.\n",
      "\n",
      "Letras minusculas -> python é uma linguagem excelente!\n",
      "\n",
      "Letras maiúsculas -> PYTHON É UMA LINGUAGEM EXCELENTE!\n",
      "\n",
      "Mesmo após utilizar a função lower e upper o python não alterou a variavel origina -> Python é uma linguagem excelente!\n",
      "\n",
      "Quebra padrão função split() -> ['Python', 'é', 'uma', 'linguagem', 'excelente!']\n",
      "Quebra por \"e\" função split(e) -> ['Python é uma linguag', 'm ', 'xc', 'l', 'nt', '!\\n']\n",
      "\n",
      "Acessando um dado da lista criada com a função split -> Python\n",
      "\n",
      "\n",
      " Funções disponiveis do dir(str)\n",
      " ['__add__', '__class__', '__contains__', '__delattr__', '__dir__', '__doc__', '__eq__', '__format__', '__ge__', '__getattribute__', '__getitem__', '__getnewargs__', '__gt__', '__hash__', '__init__', '__init_subclass__', '__iter__', '__le__', '__len__', '__lt__', '__mod__', '__mul__', '__ne__', '__new__', '__reduce__', '__reduce_ex__', '__repr__', '__rmod__', '__rmul__', '__setattr__', '__sizeof__', '__str__', '__subclasshook__', 'capitalize', 'casefold', 'center', 'count', 'encode', 'endswith', 'expandtabs', 'find', 'format', 'format_map', 'index', 'isalnum', 'isalpha', 'isascii', 'isdecimal', 'isdigit', 'isidentifier', 'islower', 'isnumeric', 'isprintable', 'isspace', 'istitle', 'isupper', 'join', 'ljust', 'lower', 'lstrip', 'maketrans', 'partition', 'replace', 'rfind', 'rindex', 'rjust', 'rpartition', 'rsplit', 'rstrip', 'split', 'splitlines', 'startswith', 'strip', 'swapcase', 'title', 'translate', 'upper', 'zfill'] \n",
      "\n",
      "Help on method_descriptor:\n",
      "\n",
      "center(self, width, fillchar=' ', /)\n",
      "    Return a centered string of length width.\n",
      "    \n",
      "    Padding is done using the specified fill character (default is a space).\n",
      "\n",
      "None\n",
      "\n",
      "Função .center() centraliza a str entre outras strings, por padrão espaços.\n",
      "\n",
      "       Python       \n",
      "xxxxxxxPYTHONxxxxxxx\n"
     ]
    }
   ],
   "source": [
    "frase = 'Python é uma linguagem excelente!\\n'\n",
    "print(frase)\n",
    "print('\"py\" esta presente na frase? Resposta:', 'py' in frase, '- Python distingue letras maiúsculas e minúsculas')\n",
    "print('\"thon\" esta presente na frase? Resposta:', 'thon' in frase,'- Python distingue letras maiúsculas e minúsculas')\n",
    "\n",
    "#contagem do numero de caracteres (len)\n",
    "print('\\nLEN para contagem do numero de caracteres. Frase possuí', len(frase),'caracteres.\\n')\n",
    "\n",
    "#lower() letras minúsculas\n",
    "print('Letras minusculas ->', frase.lower())\n",
    "\n",
    "#Upper() letras maiúsculas\n",
    "print('Letras maiúsculas ->', frase.upper())\n",
    "\n",
    "print('Mesmo após utilizar a função lower e upper o python não alterou a variavel origina -> '+ frase)\n",
    "\n",
    "#Split para quebrar/separar dados de uma string, por padrão quebra em espaços em branco\n",
    "print('Quebra padrão função split() ->', frase.split())\n",
    "print('Quebra por \"e\" função split(e) ->', frase.split('e'))\n",
    "\n",
    "#Acessar um dado da lista gerada com a função split\n",
    "#Crio nova variavel e acesso a posição da lista com colchetes []\n",
    "lista_da_frase = frase.split()\n",
    "print('\\nAcessando um dado da lista criada com a função split -> ' + lista_da_frase[0] + '\\n')\n",
    "\n",
    "print('\\n Funções disponiveis do dir(str)\\n',dir(str),'\\n')\n",
    "print (help(str.center))\n",
    "#função center\n",
    "print('\\nFunção .center() centraliza a str entre outras strings, por padrão espaços.\\n')\n",
    "print(lista_da_frase[0].center(20))\n",
    "print(lista_da_frase[0].upper().center(20,'x'))"
   ]
  },
  {
   "cell_type": "markdown",
   "metadata": {},
   "source": [
    "## Class Fourty Five\n",
    "\n",
    "## String 4"
   ]
  },
  {
   "cell_type": "code",
   "execution_count": 34,
   "metadata": {},
   "outputs": [
    {
     "name": "stdout",
     "output_type": "stream",
     "text": [
      "a = 123\n",
      "b =  de Oliveira 4\n",
      "a + b = 123 de Oliveira 4\n",
      "Tamanho de a = 3\n",
      "Tamanho de b = 14\n",
      "Tamanho de a + b = 17\n",
      "Python é uma linguagem excelente!\n",
      "\n"
     ]
    },
    {
     "data": {
      "text/plain": [
       "['__add__',\n",
       " '__class__',\n",
       " '__contains__',\n",
       " '__delattr__',\n",
       " '__dir__',\n",
       " '__doc__',\n",
       " '__eq__',\n",
       " '__format__',\n",
       " '__ge__',\n",
       " '__getattribute__',\n",
       " '__getitem__',\n",
       " '__getnewargs__',\n",
       " '__gt__',\n",
       " '__hash__',\n",
       " '__init__',\n",
       " '__init_subclass__',\n",
       " '__iter__',\n",
       " '__le__',\n",
       " '__len__',\n",
       " '__lt__',\n",
       " '__mod__',\n",
       " '__mul__',\n",
       " '__ne__',\n",
       " '__new__',\n",
       " '__reduce__',\n",
       " '__reduce_ex__',\n",
       " '__repr__',\n",
       " '__rmod__',\n",
       " '__rmul__',\n",
       " '__setattr__',\n",
       " '__sizeof__',\n",
       " '__str__',\n",
       " '__subclasshook__',\n",
       " 'capitalize',\n",
       " 'casefold',\n",
       " 'center',\n",
       " 'count',\n",
       " 'encode',\n",
       " 'endswith',\n",
       " 'expandtabs',\n",
       " 'find',\n",
       " 'format',\n",
       " 'format_map',\n",
       " 'index',\n",
       " 'isalnum',\n",
       " 'isalpha',\n",
       " 'isascii',\n",
       " 'isdecimal',\n",
       " 'isdigit',\n",
       " 'isidentifier',\n",
       " 'islower',\n",
       " 'isnumeric',\n",
       " 'isprintable',\n",
       " 'isspace',\n",
       " 'istitle',\n",
       " 'isupper',\n",
       " 'join',\n",
       " 'ljust',\n",
       " 'lower',\n",
       " 'lstrip',\n",
       " 'maketrans',\n",
       " 'partition',\n",
       " 'replace',\n",
       " 'rfind',\n",
       " 'rindex',\n",
       " 'rjust',\n",
       " 'rpartition',\n",
       " 'rsplit',\n",
       " 'rstrip',\n",
       " 'split',\n",
       " 'splitlines',\n",
       " 'startswith',\n",
       " 'strip',\n",
       " 'swapcase',\n",
       " 'title',\n",
       " 'translate',\n",
       " 'upper',\n",
       " 'zfill']"
      ]
     },
     "execution_count": 34,
     "metadata": {},
     "output_type": "execute_result"
    }
   ],
   "source": [
    "a = '123'\n",
    "b = ' de Oliveira 4'\n",
    "print('a = '+ a)\n",
    "print('b = ' + b)\n",
    "print('a + b = ' + a + b)\n",
    "print('Tamanho de a =', len(a))\n",
    "print('Tamanho de b =', b.__len__())\n",
    "print('Tamanho de a + b =', len(a+b))\n",
    "\n",
    "print(frase)\n",
    "len(frase)\n",
    "frase.__len__()\n",
    "'l' in frase\n",
    "frase.__contains__('l')\n",
    "dir(str)"
   ]
  },
  {
   "cell_type": "markdown",
   "metadata": {},
   "source": [
    "## Class Fourty Six\n",
    "\n",
    "## Listas 01"
   ]
  },
  {
   "cell_type": "code",
   "execution_count": 34,
   "metadata": {},
   "outputs": [
    {
     "name": "stdout",
     "output_type": "stream",
     "text": [
      "Dados da Lista ->  [1, 5]\n",
      "Tamanho da Lista ->  2 \n",
      "\n",
      "Dados da lista, com inclusão de uma lista -> [1, 5, [1, 2, 3]] \n",
      "\n",
      "Dados da nova_lista -> [1, 5, 'Ana', 'Bia']\n",
      "Dados da nova_lista após remover dados -> [1, 'Ana', 'Bia'] \n",
      "\n",
      "Dados da nova_lista após alteração da ordem -> ['Bia', 'Ana', 1] \n",
      "\n"
     ]
    }
   ],
   "source": [
    "dir(str)\n",
    "lista = []\n",
    "type(lista)\n",
    "dir(list)\n",
    "#help(list)\n",
    "#Lista é uma sequencia mutável, podendo remover e adicionar elementos.\n",
    "#Lista pode conter varios tipos, porem não é recomendado criar lista com tipos diferentes.\n",
    "\n",
    "#Tamanho da lista\n",
    "len(lista)\n",
    "\n",
    "#Adicionar elementos na lista -> append\n",
    "lista.append(1)\n",
    "lista.append(5)\n",
    "print('Dados da Lista -> ',lista)\n",
    "print('Tamanho da Lista -> ',len(lista),'\\n')\n",
    "#É possível incluir/criar lista dentro de uma lista\n",
    "lista.append([1,2,3])\n",
    "print('Dados da lista, com inclusão de uma lista ->', lista,'\\n')\n",
    "\n",
    "#É possível criar lista com dados heterogêneo (str, boolean, numeros, ...etc)\n",
    "nova_lista = [1, 5, 'Ana', 'Bia']\n",
    "print('Dados da nova_lista ->', nova_lista)\n",
    "\n",
    "#Remover dados da lista -> remove\n",
    "nova_lista.remove(5)\n",
    "print('Dados da nova_lista após remover dados ->', nova_lista, '\\n')\n",
    "\n",
    "#Alterar ordem da lista -> reverse\n",
    "#Neste caso altera o dados da Variável\n",
    "#A lista é um elemento mutável\n",
    "nova_lista.reverse()\n",
    "print('Dados da nova_lista após alteração da ordem ->', nova_lista, '\\n')"
   ]
  },
  {
   "cell_type": "markdown",
   "metadata": {},
   "source": [
    "## Class Fourty Seven\n",
    "\n",
    "## Lista 2"
   ]
  },
  {
   "cell_type": "code",
   "execution_count": 22,
   "metadata": {},
   "outputs": [
    {
     "name": "stdout",
     "output_type": "stream",
     "text": [
      "[1, 5]\n",
      "[1]\n",
      "[1, 'Alex']\n",
      "2\n",
      "[1, 'Alex', [2, 3, 4]]\n",
      "3\n",
      "[[2, 3, 4], 'Alex', 1]\n",
      "\n",
      "\n",
      "[1, 2, 'Alex', 'Rebeca', 3.1415]\n",
      "O indice do valor \"2\" da nova_lista é ->  1 \n",
      "\n",
      "O valor do indice 3 da nova_lista é ->  Rebeca\n",
      "O valor do ultimo indice da nova_lista é ->  3.1415\n",
      "O valor do primeiro indice da nova_lista é ->  1 \n",
      "\n",
      "Dados da nova_lista -> [1, 2, 'Alex', 'Rebeca', 3.1415]\n",
      "1 in nova_lista ->  True\n",
      "1 not in nova_lista ->  False\n",
      "\"rebeca\" in nova_lista ->  False\n",
      "\"Rebeca\" in nova_lista ->  True\n"
     ]
    }
   ],
   "source": [
    "lista = []\n",
    "lista.append(1)\n",
    "lista.append(5)\n",
    "print(lista)\n",
    "lista.remove(5)\n",
    "print(lista)\n",
    "lista.append('Alex')\n",
    "print(lista)\n",
    "print(len(lista))\n",
    "lista.append([2,3,4])\n",
    "print(lista)\n",
    "print(len(lista))\n",
    "lista.reverse()\n",
    "print(lista)\n",
    "print('\\n')\n",
    "#Acessar elementos de uma lista\n",
    "#Para saber qual é o indice de um determinado valor -> index\n",
    "nova_lista = [1, 2, 'Alex', 'Rebeca', 3.1415]\n",
    "print(nova_lista)\n",
    "print('O indice do valor \"2\" da nova_lista é -> ',nova_lista.index(2),'\\n')\n",
    "\n",
    "#Para acessar um determinado indice utilizar []\n",
    "print('O valor do indice 3 da nova_lista é -> ', nova_lista[3])\n",
    "print('O valor do ultimo indice da nova_lista é -> ', nova_lista[-1])\n",
    "print('O valor do primeiro indice da nova_lista é -> ', nova_lista[0],'\\n')\n",
    "\n",
    "#Utilizar operadores para verificar in\n",
    "print('Dados da nova_lista ->', nova_lista)\n",
    "print('1 in nova_lista -> ', 1 in nova_lista)\n",
    "print('1 not in nova_lista -> ', 1 not in nova_lista)\n",
    "print('\"rebeca\" in nova_lista -> ', 'rebeca' in nova_lista)\n",
    "print('\"Rebeca\" in nova_lista -> ', 'Rebeca' in nova_lista)"
   ]
  },
  {
   "cell_type": "markdown",
   "metadata": {},
   "source": [
    "## Class Fourty Eigth\n",
    "\n",
    "## Lista 3"
   ]
  },
  {
   "cell_type": "code",
   "execution_count": 37,
   "metadata": {},
   "outputs": [
    {
     "name": "stdout",
     "output_type": "stream",
     "text": [
      "Todos os dados da Lista -> ['Ana', 'Lia', 'Rui', 'Paulo', 'Dani']\n",
      "['Lia', 'Rui']\n",
      "['Lia', 'Rui', 'Paulo']\n",
      "['Lia', 'Rui', 'Paulo', 'Dani']\n",
      "['Ana', 'Lia', 'Rui', 'Paulo']\n",
      "['Ana', 'Rui', 'Dani']\n",
      "['Dani', 'Paulo', 'Rui', 'Lia', 'Ana']\n",
      "\n",
      "Deletar o indice 2 - Rui - da lista ['Ana', 'Lia', 'Rui', 'Paulo', 'Dani']\n",
      "['Ana', 'Lia', 'Paulo', 'Dani']\n",
      "\n",
      "Deletar do indice 1: até o final - ['Lia', 'Paulo', 'Dani'] - da lista ['Ana', 'Lia', 'Paulo', 'Dani']\n",
      "['Ana']\n"
     ]
    }
   ],
   "source": [
    "lista = ['Ana', 'Lia', 'Rui', 'Paulo', 'Dani']\n",
    "print('Todos os dados da Lista ->', lista)\n",
    "#Acessar partes dos elementos da Lista\n",
    "print(lista[1:3])\n",
    "print(lista[1:-1])\n",
    "print(lista[1:])\n",
    "print(lista[:-1])\n",
    "print(lista[::2])\n",
    "print(lista[::-1])\n",
    "\n",
    "print('\\nDeletar o indice 2 -',lista[2], '- da lista', lista)\n",
    "del lista[2]\n",
    "print(lista)\n",
    "print('\\nDeletar do indice 1: até o final -',lista[1:], '- da lista', lista)\n",
    "del lista[1:]\n",
    "print(lista)"
   ]
  },
  {
   "cell_type": "markdown",
   "metadata": {},
   "source": [
    "## Class Fourty Nine\n",
    "\n",
    "## Tupla"
   ]
  },
  {
   "cell_type": "code",
   "execution_count": 20,
   "metadata": {},
   "outputs": [
    {
     "name": "stdout",
     "output_type": "stream",
     "text": [
      "Variavel Tupla é do tipo -> <class 'tuple'>\n",
      "('um',)\n",
      "um\n",
      "verde\n",
      "branco\n",
      "('amarelo', 'azul', 'branco')\n",
      "Posição da string \"azul\" dentro da tupla cores -> 2\n",
      "Quantas string \"azul\" tem dentro da tupla cores -> 1\n",
      "Quantos elementos tem na tupla cores -> 4 que são: ('verde', 'amarelo', 'azul', 'branco')\n"
     ]
    }
   ],
   "source": [
    "#Tupla muito parecido com lista porem não pode ser adicionado elementos, ela é imutavel.\n",
    "\n",
    "tupla = tuple()\n",
    "tupla = ()\n",
    "type(tupla)\n",
    "dir(tuple)\n",
    "#help(tuple)\n",
    "#Cria Tuple com um unico elemento\n",
    "tupla = ('um',)\n",
    "print('Variavel Tupla é do tipo ->', type(tupla))\n",
    "print(tupla)\n",
    "\n",
    "#Tuple é um tipo indexivel, posivel ser acesso através do seu elemento.\n",
    "print(tupla[0])\n",
    "\n",
    "#Não é possivel alterar ou incluir um novo elemento.\n",
    "#tupla[0] = 'novo'\n",
    "\n",
    "cores = ('verde', 'amarelo', 'azul', 'branco')\n",
    "print(cores[0])\n",
    "print(cores[-1])\n",
    "print(cores[1:])\n",
    "print('Posição da string \"azul\" dentro da tupla cores ->', cores.index('azul'))\n",
    "\n",
    "#para contar quantos elementos iguais possui a tupla utilizar o count\n",
    "print('Quantas string \"azul\" tem dentro da tupla cores ->', cores.count('azul'))\n",
    "\n",
    "#Para saber quantos elementos possui a tupla utilizar o Len\n",
    "print('Quantos elementos tem na tupla cores ->', len(cores), 'que são:', cores)"
   ]
  },
  {
   "cell_type": "markdown",
   "metadata": {},
   "source": [
    "## Class Fifty\n",
    "\n",
    "## Dicionário 1"
   ]
  },
  {
   "cell_type": "code",
   "execution_count": 6,
   "metadata": {},
   "outputs": [
    {
     "name": "stdout",
     "output_type": "stream",
     "text": [
      "Quantidade de pares chaves/valor que possui a variavel \"pessoa\" -> 3\n",
      "Prof(a) Ana\n",
      "38\n",
      "['Ingês', 'Português']\n",
      "Ingês\n",
      "Português\n",
      "dict_keys(['nome', 'idade', 'cursos'])\n",
      "dict_values(['Prof(a) Ana', 38, ['Ingês', 'Português']])\n",
      "dict_items([('nome', 'Prof(a) Ana'), ('idade', 38), ('cursos', ['Ingês', 'Português'])])\n",
      "38\n",
      "Não possui a chave \"teste\"\n"
     ]
    }
   ],
   "source": [
    "# Dicionário - (Dict) Estrutura = Chave -> Valor\n",
    "\n",
    "pessoa = {'nome': 'Prof(a) Ana', 'idade': 38, 'cursos': ['Ingês', 'Português']}\n",
    "type(pessoa)\n",
    "dir(dict)\n",
    "#help(dict)\n",
    "print('Quantidade de pares chaves/valor que possui a variavel \"pessoa\" ->', len(pessoa))\n",
    "print(pessoa['nome'])\n",
    "print(pessoa['idade'])\n",
    "print(pessoa['cursos'])\n",
    "print(pessoa['cursos'][0])\n",
    "print(pessoa['cursos'][1])\n",
    "\n",
    "#Para saber as Chaves do Dicionário utilizar função KEYS\n",
    "print(pessoa.keys())\n",
    "#Para saber os Valores atribuidos as chaves do Dicionário utilizar função values\n",
    "print(pessoa.values())\n",
    "#Para saber os atribuidos as chaves e valores do Dicionário utilizar função items\n",
    "print(pessoa.items())\n",
    "#retonar o valor atribuido a chave GET, porem se não possuir a chave não retorna erro nem valor\n",
    "print(pessoa.get('idade'))\n",
    "#Utilizar o GET para retornar um deteminado dado quando não possuir a chave\n",
    "print(pessoa.get('teste', 'Não possui a chave \"teste\"'))"
   ]
  },
  {
   "cell_type": "markdown",
   "metadata": {},
   "source": [
    "## Class Fifty One\n",
    "\n",
    "## Dicionário 2"
   ]
  },
  {
   "cell_type": "code",
   "execution_count": 21,
   "metadata": {},
   "outputs": [
    {
     "name": "stdout",
     "output_type": "stream",
     "text": [
      "{'nome': 'Prof. Alberto', 'idade': 43, 'cursos': ['React', 'Python']}\n",
      "{'nome': 'Prof. Alberto', 'idade': 55, 'cursos': ['React', 'Python'], 'Idade': 44}\n",
      "{'nome': 'Prof. Alberto', 'idade': 55, 'cursos': ['React', 'Python', 'Angular'], 'Idade': 44}\n",
      "{'nome': 'Prof. Alberto', 'idade': 55, 'cursos': ['React', 'Python', 'Angular']}\n",
      "{'nome': 'Prof. Alberto', 'idade': 55}\n",
      "{'nome': 'Prof. Alberto', 'idade': 55, 'sexo': 'M'}\n",
      "{}\n"
     ]
    }
   ],
   "source": [
    "dir(dict)\n",
    "pessoa = {'nome': 'Prof. Alberto', 'idade': 43, 'cursos': ['React', 'Python']}\n",
    "print(pessoa)\n",
    "\n",
    "#Incluí nova chave e valora um dicionário\n",
    "pessoa['Idade'] = 44\n",
    "\n",
    "#Alterar valor de uma chave\n",
    "pessoa['idade'] = 55\n",
    "print(pessoa)\n",
    "\n",
    "#Incluír novo valor a uma determinada chave\n",
    "pessoa['cursos'].append('Angular')\n",
    "print(pessoa)\n",
    "\n",
    "#Excluír uma chave e seu valor utiliza POP ou DEL\n",
    "pessoa.pop('Idade')\n",
    "print(pessoa)\n",
    "del pessoa ['cursos']\n",
    "print(pessoa)\n",
    "\n",
    "#Inclusão de chave e valor UPDATE\n",
    "pessoa.update({'sexo': 'M'})\n",
    "print(pessoa)\n",
    "\n",
    "#Para limpar um Dicionário inteiro utilizar CLEAR\n",
    "pessoa.clear()\n",
    "print(pessoa)"
   ]
  },
  {
   "cell_type": "markdown",
   "metadata": {},
   "source": [
    "## Fifty two\n",
    "\n",
    "## Conjuntos"
   ]
  },
  {
   "cell_type": "code",
   "execution_count": 36,
   "metadata": {},
   "outputs": [
    {
     "name": "stdout",
     "output_type": "stream",
     "text": [
      "Conjunto a -> {1, 2, 3}\n",
      "<class 'set'>\n",
      "\n",
      "Conjunto b -> {'r', '3', 'o', 'C', 'd'}\n",
      "<class 'set'>\n",
      "Conjuntos SET não garante ordem dos valores e não permite dados repetidos.\n",
      "\n",
      "True True\n",
      "Teste de igualdade de valores entre conjuntos -> True\n",
      "\n",
      "Conjuntos C1 e C2:\n",
      "c1 -> {1, 2} \n",
      "c2 -> {2, 3}\n",
      "\n",
      "União de c1 e c2 -> {1, 2, 3}\n",
      "\n",
      "Interseção de c1 e c2 -> {2}\n",
      "\n",
      "Update de dados de c2 para c1 -> {1, 2, 3}\n",
      "\n",
      "C2 é subconjunto de C1 -> True\n",
      "C1 é superconjunto de C2 -> True\n",
      "\n",
      "Diferença entre c1 e c2 -> {1}\n",
      "\n",
      "Subtração de conjuntos (a diferença) com adição e atribuir -> {1, 3}\n"
     ]
    }
   ],
   "source": [
    "#Conjunto - Set - Delimitado por chaves.\n",
    "#Conjunto não é indexado, não garante ordenação por padrão, não permite elementos com valores repetidos.\n",
    "\n",
    "a = {1,2,3}\n",
    "print('Conjunto a ->', a)\n",
    "print(type(a))\n",
    "\n",
    "b = set('Codddddddd3r')\n",
    "print('\\nConjunto b ->', b)\n",
    "print(type(b))\n",
    "print('Conjuntos SET não garante ordem dos valores e não permite dados repetidos.\\n')\n",
    "\n",
    "#Operadores de membro é possivel usar no SET(Conjuntos)\n",
    "print('3' in b, 4 not in a)\n",
    "\n",
    "print('Teste de igualdade de valores entre conjuntos ->', {1, 2, 3} == {3, 2, 1, 3})\n",
    "\n",
    "#Operações que pode ser realizadas em conjuntos\n",
    "print('\\nConjuntos C1 e C2:')\n",
    "c1 = {1, 2}\n",
    "c2 = {2, 3}\n",
    "print('c1 ->', c1, '\\nc2 ->', c2)\n",
    "#União de dois conjuntos\n",
    "print('\\nUnião de c1 e c2 ->', c1.union(c2))\n",
    "#Interseção de dois conjuntos (valores que são iguais em ambos conjuntos)\n",
    "print('\\nInterseção de c1 e c2 ->', c1.intersection(c2))\n",
    "#Atualização de dados de um determinado conjunto SET\n",
    "c1.update(c2)\n",
    "print('\\nUpdate de dados de c2 para c1 ->', c1)\n",
    "\n",
    "#Verificar se um determinado é um subconjunto de outro conjunto\n",
    "print('\\nC2 é subconjunto de C1 ->', c2 <= c1)\n",
    "print('C1 é superconjunto de C2 ->', c1 >= c2)\n",
    "\n",
    "#Diferença entre conjuntos\n",
    "print('\\nDiferença entre c1 e c2 ->', c1 - c2)\n",
    "\n",
    "#Subtração de conjuntos (a diferença) com adição e atribuir\n",
    "c1 -={2}\n",
    "print('\\nSubtração de conjuntos (a diferença) com adição e atribuir ->', c1)"
   ]
  },
  {
   "cell_type": "markdown",
   "metadata": {},
   "source": [
    "## Class Fifty Three\n",
    "\n",
    "## Interpolação"
   ]
  },
  {
   "cell_type": "code",
   "execution_count": 24,
   "metadata": {},
   "outputs": [
    {
     "name": "stdout",
     "output_type": "stream",
     "text": [
      "Nome: Alex Idade: 34\n",
      "Numero com casas decimais: 31.555500\n",
      "Numero com casas decimais arrendodado: 31.56\n",
      "Nome: Alex Idade: 34\n",
      "Nome: Alex Idade: 34 Posso inserir dados direto: 3->Teste\n",
      "Nome: Alex Idade: 34\n"
     ]
    }
   ],
   "source": [
    "from string import Template\n",
    "nome, idade = 'Alex', (2021-1987)\n",
    "\n",
    "# Primeira Opção para interpolação de dados\n",
    "print('Nome: %s Idade: %d' % (nome, idade)) #Versão mais antiga\n",
    "# %s -> String\n",
    "# %d -> Inteiro\n",
    "numero_float = 31.5555\n",
    "print('Numero com casas decimais: %f' % (numero_float)) #Versão mais antiga\n",
    "# %f -> Float (ponto flutuante)\n",
    "print('Numero com casas decimais arrendodado: %.2f' % (numero_float)) #Versão mais antiga\n",
    "# %.2f -> Float com Arredondamento(ponto flutuante)\n",
    "\n",
    "# Segunda Opção para interpolação de dados\n",
    "print('Nome: {0} Idade: {1}'.format(nome,idade)) #Opção mais recomendada para python <3.6\n",
    "# Terceira Opção para interpolação de dados\n",
    "print(f'Nome: {nome} Idade: {idade} Posso inserir dados direto: {1 + 2}->Teste')#Opção mais recomendada python atual >=3.6\n",
    "\n",
    "s = Template ('Nome: $nome_template Idade: $idade_template')\n",
    "print(s.substitute(nome_template=nome, idade_template=idade))"
   ]
  }
 ],
 "metadata": {
  "kernelspec": {
   "display_name": "Python 3",
   "language": "python",
   "name": "python3"
  },
  "language_info": {
   "codemirror_mode": {
    "name": "ipython",
    "version": 3
   },
   "file_extension": ".py",
   "mimetype": "text/x-python",
   "name": "python",
   "nbconvert_exporter": "python",
   "pygments_lexer": "ipython3",
   "version": "3.8.3"
  }
 },
 "nbformat": 4,
 "nbformat_minor": 4
}
